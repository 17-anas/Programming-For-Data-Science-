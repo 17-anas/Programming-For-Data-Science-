{
 "cells": [
  {
   "cell_type": "code",
   "execution_count": 2,
   "id": "220fac25",
   "metadata": {},
   "outputs": [
    {
     "name": "stdout",
     "output_type": "stream",
     "text": [
      "Positive\n"
     ]
    }
   ],
   "source": [
    "# Program that will decide whether a number is positive or not. \n",
    "\n",
    "n=float(input(\"Enter any number : \")) \n",
    "if n>=0:\n",
    "    print(\"Positive\") \n",
    "elif n<0:\n",
    "    print(\"Negative\")\n"
   ]
  },
  {
   "cell_type": "code",
   "execution_count": 3,
   "id": "6017ef47",
   "metadata": {},
   "outputs": [
    {
     "name": "stdout",
     "output_type": "stream",
     "text": [
      "Positive Odd\n"
     ]
    }
   ],
   "source": [
    "## Program that will decide whether a number is even or odd.\n",
    "\n",
    "n=float(input(\"Enter any number : \"))  \n",
    "if n%2==0 and n>=0:\n",
    "    print(\"Positive Even\") \n",
    "elif n%2==0 and n<0:\n",
    "    print(\"Negative Even\")\n",
    "elif n%2!=0 and n>=0:\n",
    "    print(\"Positive Odd\") \n",
    "elif n%2!=0 and n<0:\n",
    "    print(\"Negative Odd\")  \n"
   ]
  },
  {
   "cell_type": "code",
   "execution_count": null,
   "id": "5d1050ec",
   "metadata": {},
   "outputs": [],
   "source": [
    "# Program that will check whether a triangle is valid or not, when the three angles (angle value should be such that, 0 <value<180) of the triangle are entered through the keyboard.\n",
    "# [Hint: A triangle is valid if the sum of all the three angles is equal to 180 degrees.] \n",
    "\n",
    "first=float(input(\"Enter 1st angle : \"))\n",
    "second=float(input(\"Enter 2nd angle : \"))\n",
    "third=float(input(\"Enter 3rd angle : \")) \n",
    "\n",
    "total=first+second+third\n",
    "if total==180:\n",
    "    print(\"This is a triangle\") \n",
    "else:\n",
    "    print(\"This is not a triangle \") \n",
    "\n"
   ]
  },
  {
   "cell_type": "code",
   "execution_count": 11,
   "id": "d78f16c8",
   "metadata": {},
   "outputs": [
    {
     "name": "stdout",
     "output_type": "stream",
     "text": [
      "Programm works only with positive nonzero number\n"
     ]
    }
   ],
   "source": [
    "# Program that will read from the console a random positive nonzero number and determine if it is a power of 2.\n",
    "\n",
    "# Ans : If you take any power of 2, and divide it by 2, the remainder will always be 0.\n",
    "\n",
    "n=float(input(\"Give me a Number : \"))\n",
    "\n",
    "if n==0 or n<0:\n",
    "    print(\"Programm works only with positive nonzero number\") \n",
    "if n%2==0 and n>0:\n",
    "    print(\"it is a power of 2\") \n"
   ]
  },
  {
   "cell_type": "code",
   "execution_count": 12,
   "id": "5ef688d6",
   "metadata": {},
   "outputs": [
    {
     "name": "stdout",
     "output_type": "stream",
     "text": [
      "5.0 is equal to 5.0\n"
     ]
    }
   ],
   "source": [
    "#Program that will take two numbers X & Y as inputs and decide whether X is greater than/less than/equal to Y. \n",
    "\n",
    "x=float(input(\"Enter the value of X= \")) \n",
    "y=x=float(input(\"Enter the value of Y= \")) \n",
    "\n",
    "if x>y:\n",
    "    print(f\"{x} is greater than {y}\")\n",
    "elif x<y:\n",
    "    print(f\"{x} is less than {y}\")\n",
    "elif x==y:\n",
    "    print(f\"{x} is equal to {y}\") \n",
    "\n",
    "\n"
   ]
  },
  {
   "cell_type": "code",
   "execution_count": null,
   "id": "76dd608f",
   "metadata": {},
   "outputs": [],
   "source": [
    "#Program that will decide whether a year is leap year or not.\n",
    "# Yes, if (year % 4 == 0 and year % 100 != 0 ) or (year % 400 ==0)\n",
    "\n",
    "year=float(input(\"Enter year : \"))\n",
    "if (year % 4 == 0 and year % 100 != 0 ):\n",
    "    print(\"This is a Leap Year \") \n",
    "else:\n",
    "    print(\"It's not a Leap Year \") "
   ]
  },
  {
   "cell_type": "code",
   "execution_count": 15,
   "id": "393e4280",
   "metadata": {},
   "outputs": [
    {
     "name": "stdout",
     "output_type": "stream",
     "text": [
      "The Division of 100.0 by -5.5 is -18.181818181818183\n"
     ]
    }
   ],
   "source": [
    "# Program that will evaluate simple expressions of the form-\n",
    "# <number1> <operator> <number2>\n",
    "# ; where operators are (+,-,^ * ,/)\n",
    "# And if the operator is \"/\", then check if <number2> nonzero or not. \n",
    "\n",
    "\n",
    "number1=float(input(\"Enter a number : \"))\n",
    "number2=float(input(\"Enter a number : \")) \n",
    "operator=input(\"Enter any operator (+,-,*,/,**,%)\") \n",
    "first_take=input(\"Which number you want to take first ? number1 or number2\")\n",
    "\n",
    "if operator ==\"+\":\n",
    "    print(f\"The addition of {number1} & {number2} is {number1+number2}\") \n",
    "elif operator ==\"-\":\n",
    "    if number1>number2:\n",
    "        print(f\"The subtraction of {number1} & {number2} is {number1-number2}\") \n",
    "    elif number1<number2:\n",
    "        print(f\"The subtraction of {number1} & {number2} is {number2-number1}\") \n",
    "elif operator==\"*\":\n",
    "    print(f\"The multiplication of {number1} & {number2} is {number2*number1}\") \n",
    "elif operator==\"%\" :\n",
    "    if first_take==\"number1\":\n",
    "        print(f\"The Mod of {number1} by {number2} is {number1%number2}\") \n",
    "    elif first_take==\"number2\":\n",
    "        print(f\"The Mod of {number2} by {number1} is {number2%number1}\") \n",
    "elif operator==\"/\" :\n",
    "    if first_take==\"number1\":\n",
    "        print(f\"The Division of {number1} by {number2} is {number1/number2}\") \n",
    "        if number2==0:\n",
    "            print(\"The Division of Zero is not Possible\") \n",
    "    elif first_take==\"number2\":\n",
    "        print(f\"The Division of {number2} by {number1} is {number2/number1}\") \n",
    "        if number1==0:\n",
    "            print(\"The Division of Zero is not Possible\") \n",
    "elif operator==\"**\" :\n",
    "    if first_take==\"number1\":\n",
    "        print(f\"The power of {number1} by {number2} is {number1**number2}\") \n",
    "    if first_take==\"number2\":\n",
    "        print(f\"The power of {number2} by {number1} is {number2**number1}\")  \n",
    "\n"
   ]
  },
  {
   "cell_type": "code",
   "execution_count": null,
   "id": "7ac22544",
   "metadata": {},
   "outputs": [],
   "source": [
    "# Programm that will take the final score of a student in a particular subject as input and find his / her grade . \n",
    "\n"
   ]
  },
  {
   "cell_type": "code",
   "execution_count": null,
   "id": "763f8b7a",
   "metadata": {},
   "outputs": [
    {
     "name": "stdout",
     "output_type": "stream",
     "text": [
      "Eligibility: Eligible for special admission program\n"
     ]
    }
   ],
   "source": [
    "# This is a output Tracing problem \n",
    "\n",
    "age = int(input(\"Enter your age: \"))\n",
    "score = float(input(\"Enter your test score: \"))\n",
    "if age >= 18:\n",
    "    if score >= 75:\n",
    "        print(\"Eligibility: Eligible for admission\")\n",
    "    else:\n",
    "        if score >= 50:\n",
    "            print(\"Eligibility: Provisionally eligible for admission\")\n",
    "        else:\n",
    "            print(\"Eligibility: Not eligible for admission\")\n",
    "else:\n",
    "    if age >= 16:\n",
    "        if score >= 85:\n",
    "            print(\"Eligibility: Eligible for special admission program\")\n",
    "        else:\n",
    "            print(\"Eligibility: Not eligible for admission\")\n",
    "    else:\n",
    "        print(\"Eligibility: Not eligible due to age\") "
   ]
  },
  {
   "cell_type": "code",
   "execution_count": 7,
   "id": "8cd97791",
   "metadata": {},
   "outputs": [
    {
     "name": "stdout",
     "output_type": "stream",
     "text": [
      "Condition: Hypothermia\n"
     ]
    }
   ],
   "source": [
    "temperature = float(input(\"Enter your body temperature inCelsius: \"))\n",
    "if temperature >= 38:\n",
    "    print(\"Condition: Fever\")\n",
    "else:\n",
    "    if temperature >= 37:\n",
    "        print(\"Condition: Slightly Elevated\")\n",
    "    else:\n",
    "        if temperature >= 36:\n",
    "            print(\"Condition: Normal\")\n",
    "        else:\n",
    "            if temperature >= 35:\n",
    "                print(\"Condition: Low\")\n",
    "            else:\n",
    "                print(\"Condition: Hypothermia\")"
   ]
  },
  {
   "cell_type": "code",
   "execution_count": 8,
   "id": "c06942fe",
   "metadata": {},
   "outputs": [
    {
     "name": "stdout",
     "output_type": "stream",
     "text": [
      "No increment will be added on this salary \n"
     ]
    }
   ],
   "source": [
    "# . A company decides to give an increment to its employees based on their current salary. An employee\n",
    "# having a current salary less than 20,000 will get an increase of 15%. If the employee's salary is more than\n",
    "# 20,000 and less than 50,000, s/he will get an increment of 10%. The employees with a salary between\n",
    "# 50,0000 and 70,000 will get an increment of 8%; if the current salary is more than 70,000, the salary will\n",
    "# be incremented by 5%. Write a program in python to take the current salary as input and calculate the\n",
    "# updated salary after the increment. Remember the salary cannot be less than 10,000 and more than\n",
    "# 200,000. In those cases, you should print an appropriate message. \n",
    "\n",
    "\n",
    "\n",
    "salary=float(input(\"Input your salary: \")) \n",
    "if salary<10000 or salary>200000:\n",
    "    print(\"No increment will be added on this salary \")\n",
    "elif 10000<salary<20000:\n",
    "    new_salary=(salary+(salary*0.15)) \n",
    "    print(f\"New salary is {new_salary}\") \n",
    "elif 20000<salary<50000:\n",
    "    new_salary=(salary+(salary*0.10)) \n",
    "    print(f\"New salary is {new_salary}\") \n",
    "elif 50000<salary<70000:\n",
    "    new_salary=(salary+(salary*0.08)) \n",
    "    print(f\"New salary is {new_salary}\")\n",
    "elif salary>70000:\n",
    "    new_salary=(salary+(salary*0.05)) \n",
    "    print(f\"New salary is {new_salary}\")\n",
    "\n"
   ]
  },
  {
   "cell_type": "code",
   "execution_count": 12,
   "id": "f3d378b6",
   "metadata": {},
   "outputs": [
    {
     "name": "stdout",
     "output_type": "stream",
     "text": [
      "Sorry! this book is not available\n"
     ]
    }
   ],
   "source": [
    "# Write a Python program to simulate a bookstore where customers can buy books with specific\n",
    "# discounts applied based on the book's category. The program should take the original price of the book\n",
    "# and its category as inputs and then calculate the final price after applying the discount. \n",
    "# The discounts are as follows:\n",
    "    # Fiction books receive a 10% discount.\n",
    "    # Non-fiction books receive a 15% discount.\n",
    "    # Educational books receive a 20% discount.\n",
    "    # Comics receive a 5% discount.\n",
    "# The program should handle the following requirements:\n",
    "    #  The price of the book cannot be less than 5 Tk or more than 500 Tk. If the price is outside this range, print an appropriate message.\n",
    "    #  If an invalid category is entered, print a message indicating the category is invalid.\n",
    "    #  The program should output the final price of the book after applying the appropriate discount.\n",
    "\n",
    "\n",
    "\n",
    "\n",
    "book_type=input(\"which Type\") \n",
    "price=float(input(\"Price of the book\"))  \n",
    "\n",
    "if price<5 or price>500:\n",
    "    print(\"We have no book in this range \")\n",
    "elif book_type.lower()==\"fiction\":\n",
    "    new_price=(price-(price*0.10))\n",
    "    print(f\"The discounted price of the {book_type} book is {new_price}\")\n",
    "elif book_type.lower()==\"non-fiction\" or book_type.lower()==\"non fiction\" or book_type.lower()==\"non_fiction\":\n",
    "    new_price=(price-(price*0.15))\n",
    "    print(f\"The discounted price of the {book_type} book is {new_price}\")\n",
    "elif book_type.lower()==\"comics\":\n",
    "    new_price=(price-(price*0.05))\n",
    "    print(f\"The discounted price of the {book_type} book is {new_price}\")\n",
    "else:\n",
    "    print(\"Sorry! this book is not available\") \n",
    "\n"
   ]
  },
  {
   "cell_type": "code",
   "execution_count": null,
   "id": "76e030db",
   "metadata": {},
   "outputs": [],
   "source": [
    "# 5-3 Python Crash course \n",
    "\n",
    "alien_colour=input(\"Which Colour : \")\n",
    "if alien_colour.lower() == \"green\":\n",
    "    print(f\"5 Point\")\n",
    "else:\n",
    "    print(\"No point for this colour \") "
   ]
  },
  {
   "cell_type": "code",
   "execution_count": null,
   "id": "03617c83",
   "metadata": {},
   "outputs": [],
   "source": [
    "# 5-4 Python Crash course \n",
    "alien_colour=input(\"Which Colour : \")\n",
    "if alien_colour.lower() == \"green\":\n",
    "    print(f\"The player just earned 5 point for shooting the alien \")\n",
    "else:\n",
    "    print(\"You have got 10 points for this colour \")  \n"
   ]
  },
  {
   "cell_type": "code",
   "execution_count": null,
   "id": "b9a8050b",
   "metadata": {},
   "outputs": [],
   "source": [
    "# 5-5 Python Crash course\n",
    "alien_colour=input(\"Which Colour : \")\n",
    "if alien_colour.lower() == \"green\":\n",
    "    print(\"Earned 5 points\")\n",
    "elif alien_colour.lower() == \"yellow\":\n",
    "    print(\"Earned 10 points\")\n",
    "elif alien_colour.lower() == \"red\":\n",
    "    print(\"Earned 15 points\")\n",
    "    "
   ]
  },
  {
   "cell_type": "code",
   "execution_count": null,
   "id": "fbed1c85",
   "metadata": {},
   "outputs": [],
   "source": [
    "# 5-7 Python Crash course\n",
    "\n",
    "fav_fruits=[\"mango\",\"strawberry\",\"apple\"] \n",
    "fruit_name=input(\"Fruit name: \")\n",
    "if fruit_name in fav_fruits:\n",
    "    print(f\"Wow {fruit_name} !! \") "
   ]
  },
  {
   "cell_type": "code",
   "execution_count": 2,
   "id": "d19433f7",
   "metadata": {},
   "outputs": [
    {
     "name": "stdout",
     "output_type": "stream",
     "text": [
      "8.0\n"
     ]
    }
   ],
   "source": [
    "# Write a program to find the largest of three given numbers.\n",
    "\n",
    "x=float(input(\"Give a num \")) \n",
    "y=float(input(\"Give a num \"))\n",
    "z=float(input(\"Give a num \")) \n",
    "\n",
    "if x>y and x>z: \n",
    "    print(x)  \n",
    "elif y>x and y>z: \n",
    "    print(y) \n",
    "elif z>y and z>x: \n",
    "    print(z) \n"
   ]
  },
  {
   "cell_type": "code",
   "execution_count": null,
   "id": "e35076f7",
   "metadata": {},
   "outputs": [],
   "source": [
    "# . Write a program to check if a number is divisible by both 3 and 5. \n",
    "\n",
    "number= float(input(\"Give me number \")) \n",
    "if number%3==0 and number%5==0:\n",
    "    print(\"Divisible by both \")  \n",
    "else:\n",
    "    print(\"Its not divisible by both \") \n"
   ]
  },
  {
   "cell_type": "code",
   "execution_count": 4,
   "id": "19c7b7b6",
   "metadata": {},
   "outputs": [
    {
     "name": "stdout",
     "output_type": "stream",
     "text": [
      "Vowel\n"
     ]
    }
   ],
   "source": [
    "# Write a program to check if a character is a vowel or consonant. \n",
    "\n",
    "vowels=[\"a\",\"e\",\"i\",\"o\",\"u\"] \n",
    "character=input(\"give me a character : \") \n",
    "if character.lower() in vowels:\n",
    "    print(\"Vowel\") \n",
    "else:\n",
    "    print(\"Consonant\")  \n"
   ]
  },
  {
   "cell_type": "code",
   "execution_count": null,
   "id": "d5e1ed7f",
   "metadata": {},
   "outputs": [],
   "source": [
    "# Write a program to compute the roots of a quadratic equation ax2 + bx + c = 0. \n",
    "# Root = -b +"
   ]
  },
  {
   "cell_type": "code",
   "execution_count": 5,
   "id": "1cc72881",
   "metadata": {},
   "outputs": [
    {
     "name": "stdout",
     "output_type": "stream",
     "text": [
      "Total Charge 25.0\n"
     ]
    }
   ],
   "source": [
    "# Write a program to calculate the electricity bill based on the following rules:\n",
    "#     • For the first 100 units, the charge is $0.5 per unit.\n",
    "#     • For the next 100 units (101–200), the charge is $0.75 per unit.\n",
    "#     • For the next 100 units (201–300), the charge is $1.20 per unit.\n",
    "#     • Above 300 units, the charge is $1.50 per unit.\n",
    "\n",
    "\n",
    "unit=float(input(\"Enter total unit \")) \n",
    "if unit<=100:\n",
    "    print(f\"Total Charge {unit*0.5}\") \n",
    "elif 100<unit<=200:\n",
    "    print(f\"Total Charge {unit*0.75}\") \n",
    "elif 200<unit<=300:\n",
    "    print(f\"Total Charge {unit*1.20}\") \n",
    "elif unit>300:\n",
    "    print(f\"Total Charge {unit*1.50}\")  \n"
   ]
  },
  {
   "cell_type": "code",
   "execution_count": null,
   "id": "b18500a0",
   "metadata": {},
   "outputs": [],
   "source": [
    "\n",
    "\n"
   ]
  }
 ],
 "metadata": {
  "kernelspec": {
   "display_name": "Python 3",
   "language": "python",
   "name": "python3"
  },
  "language_info": {
   "codemirror_mode": {
    "name": "ipython",
    "version": 3
   },
   "file_extension": ".py",
   "mimetype": "text/x-python",
   "name": "python",
   "nbconvert_exporter": "python",
   "pygments_lexer": "ipython3",
   "version": "3.13.0"
  }
 },
 "nbformat": 4,
 "nbformat_minor": 5
}
